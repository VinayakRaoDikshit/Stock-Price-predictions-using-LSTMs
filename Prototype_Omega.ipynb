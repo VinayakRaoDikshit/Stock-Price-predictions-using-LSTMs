{
  "cells": [
    {
      "cell_type": "code",
      "execution_count": 1,
      "metadata": {
        "colab": {
          "base_uri": "https://localhost:8080/"
        },
        "id": "Gr0wgW0ekH33",
        "outputId": "ed0db0d5-2567-4a08-cb57-0927f8b9ffa2"
      },
      "outputs": [
        {
          "output_type": "stream",
          "name": "stdout",
          "text": [
            "Downloading...\n",
            "From: https://drive.google.com/uc?id=14DoImQQ3OHZKgqmKwtBO8qysiZ3lTc1T\n",
            "To: /content/20-04-2022-TO-20-04-2023-M&M-EQ-N.csv\n",
            "100% 26.0k/26.0k [00:00<00:00, 54.0MB/s]\n",
            "Downloading...\n",
            "From: https://drive.google.com/uc?id=1D0Eoe3K-SYzCgfUbWcdQ8pEQrmaa2V4m\n",
            "To: /content/20-04-2022-TO-20-04-2023-MARUTI-EQ-N.csv\n",
            "100% 26.7k/26.7k [00:00<00:00, 62.9MB/s]\n",
            "Downloading...\n",
            "From: https://drive.google.com/uc?id=1dTlMRsU9sYXgjXCiPyZCeYR9kd0jNLRH\n",
            "To: /content/20-04-2022-TO-20-04-2023-TATAMOTORS-EQ-N.csv\n",
            "100% 26.7k/26.7k [00:00<00:00, 73.8MB/s]\n",
            "Downloading...\n",
            "From: https://drive.google.com/uc?id=16tUwjm5K5JRnnpA7B57iZ50r-h1bgkrr\n",
            "To: /content/20-04-2022-TO-20-04-2023-HEROMOTOCO-EQ-N.csv\n",
            "100% 28.1k/28.1k [00:00<00:00, 72.9MB/s]\n",
            "Downloading...\n",
            "From: https://drive.google.com/uc?id=1UExvGxQjnAI3MdDNMrMW6WoDfETZEWqu\n",
            "To: /content/20-04-2022-TO-20-04-2023-FORCEMOT-EQ-N.csv\n",
            "100% 26.5k/26.5k [00:00<00:00, 68.8MB/s]\n"
          ]
        }
      ],
      "source": [
        "! gdown 14DoImQQ3OHZKgqmKwtBO8qysiZ3lTc1T           #M&M\n",
        "! gdown 1D0Eoe3K-SYzCgfUbWcdQ8pEQrmaa2V4m           #MARUTI\n",
        "! gdown 1dTlMRsU9sYXgjXCiPyZCeYR9kd0jNLRH           #TATAMOTORS\n",
        "! gdown 16tUwjm5K5JRnnpA7B57iZ50r-h1bgkrr           #HEROMOTOCO\n",
        "! gdown 1UExvGxQjnAI3MdDNMrMW6WoDfETZEWqu           #FORCEMOT"
      ]
    },
    {
      "cell_type": "code",
      "execution_count": 2,
      "metadata": {
        "id": "K4fDL1Yclalw"
      },
      "outputs": [],
      "source": [
        "import math\n",
        "import random\n",
        "import datetime \n",
        "import numpy as np\n",
        "import pandas as pd \n",
        "import matplotlib.pyplot as plt\n",
        "plt.style.use('fivethirtyeight')\n",
        "from sklearn.preprocessing import MinMaxScaler\n",
        "\n",
        "import keras \n",
        "import tensorflow as tf\n",
        "from keras import models\n",
        "from keras.models import load_model\n",
        "from keras.models import Sequential\n",
        "from keras.layers import Dense, LSTM\n",
        "\n",
        "seed_value = 6\n",
        "np.random.seed(seed_value)\n",
        "random.seed(seed_value)\n",
        "keras.backend.clear_session()\n",
        "tf.random.set_seed(seed_value)"
      ]
    },
    {
      "cell_type": "code",
      "execution_count": 3,
      "metadata": {
        "id": "HXS_XxupmNvH"
      },
      "outputs": [],
      "source": [
        "df1=pd.read_csv('20-04-2022-TO-20-04-2023-M&M-EQ-N.csv')\n",
        "df2=pd.read_csv('20-04-2022-TO-20-04-2023-MARUTI-EQ-N.csv')\n",
        "df3=pd.read_csv('20-04-2022-TO-20-04-2023-TATAMOTORS-EQ-N.csv')\n",
        "df4=pd.read_csv('20-04-2022-TO-20-04-2023-HEROMOTOCO-EQ-N.csv')\n",
        "df5=pd.read_csv('20-04-2022-TO-20-04-2023-FORCEMOT-EQ-N.csv')"
      ]
    },
    {
      "cell_type": "code",
      "execution_count": 4,
      "metadata": {
        "id": "Da5rKnrxm5gW"
      },
      "outputs": [],
      "source": [
        "df_list=[df1,df2,df3,df4,df5]\n",
        "data=[None]*len(df_list)            #Creating lists with size the same as that of df_list\n",
        "dataset=[None]*len(df_list)\n",
        "scaled_data=[None]*len(df_list)\n",
        "training_data_len=[None]*len(df_list)\n",
        "train_data=[None]*len(df_list)\n",
        "test_data=[None]*len(df_list)\n",
        "x_train=[]\n",
        "y_train=[]\n",
        "x_test=[]\n",
        "y_test=[]\n",
        "predictions=[]\n",
        "\n",
        "#Create a list of empty lists\n",
        "num_lists = len(df_list)\n",
        "\n",
        "# Create empty lists using a for loop\n",
        "for _ in range(num_lists):\n",
        "    empty_list = []\n",
        "    x_train.append(empty_list)\n",
        "    \n",
        "\n",
        "for _ in range(num_lists):\n",
        "    empty_list = []\n",
        "    y_train.append(empty_list)\n",
        "\n",
        "for _ in range(num_lists):\n",
        "    empty_list = []\n",
        "    x_test.append(empty_list)\n",
        "\n",
        "for _ in range(num_lists):\n",
        "    empty_list = []\n",
        "    y_test.append(empty_list)\n",
        "\n",
        "for _ in range(num_lists):\n",
        "    empty_list = []\n",
        "    predictions.append(empty_list)\n"
      ]
    },
    {
      "cell_type": "markdown",
      "metadata": {
        "id": "1-ZFrTcvnu1q"
      },
      "source": [
        "Cleaner function"
      ]
    },
    {
      "cell_type": "code",
      "execution_count": 5,
      "metadata": {
        "id": "xRt1ccYxqNYD"
      },
      "outputs": [],
      "source": [
        "#Function to change the index of dataframe to date\n",
        "def chng_index(df):\n",
        "  dt_li=[]\n",
        "  for i in df.index:\n",
        "    dt_li.append(datetime.datetime.strptime(df['Date  '][i],'%d-%m-%Y').date())\n",
        "  \n",
        "  df.index=dt_li"
      ]
    },
    {
      "cell_type": "code",
      "execution_count": 6,
      "metadata": {
        "id": "4ljZ9Y5Sbp6D"
      },
      "outputs": [],
      "source": [
        "#Function to plot the data\n",
        "def plotter(df):\n",
        "  plt.figure(figsize=(16,8))\n",
        "  plt.title('Close price history')\n",
        "  plt.plot(df.index,df['Close Price  '])\n",
        "  plt.xlabel('Date',fontsize=18)\n",
        "  plt.ylabel('Close price '+df['Symbol  '][1],fontsize=18)\n",
        "  plt.show()"
      ]
    },
    {
      "cell_type": "code",
      "execution_count": 7,
      "metadata": {
        "colab": {
          "base_uri": "https://localhost:8080/"
        },
        "id": "N7iixUkBYOiy",
        "outputId": "9802e3f6-ca2d-4138-d606-3b4fcb82e8a1"
      },
      "outputs": [
        {
          "output_type": "execute_result",
          "data": {
            "text/plain": [
              "0"
            ]
          },
          "metadata": {},
          "execution_count": 7
        }
      ],
      "source": [
        "len(x_train[0])"
      ]
    },
    {
      "cell_type": "code",
      "execution_count": 8,
      "metadata": {
        "id": "xeHJ7lUAuNJZ"
      },
      "outputs": [],
      "source": [
        "scaled_data[4]"
      ]
    },
    {
      "cell_type": "code",
      "execution_count": 9,
      "metadata": {
        "id": "kKZJEHCizGDv"
      },
      "outputs": [],
      "source": [
        "#Function to extract the 'Close Price Column of the dataframes and scale the datasets\n",
        "def extract(df,i):\n",
        "  data[i]=df['Close Price  ']\n",
        "  #convert the data into numpy array \n",
        "  dataset[i]=data[i].values\n",
        "  dataset[i]=dataset[i].reshape(-1,1)\n",
        "  scaler=MinMaxScaler(feature_range=(0,1))\n",
        "  scaled_data[i]=scaler.fit_transform(dataset[i])\n",
        "\n",
        "\n"
      ]
    },
    {
      "cell_type": "code",
      "execution_count": 10,
      "metadata": {
        "id": "LifJffOfznuo"
      },
      "outputs": [],
      "source": [
        "#Fuction to split the x training dataset \n",
        "def split_x_train(var):\n",
        "  training_data_len[var]=math.ceil(len(dataset[var])*0.8)\n",
        "  train_data[var]=scaled_data[var][0:training_data_len[var],:]\n",
        "\n",
        "  #Splitting into x train and y train\n",
        "  #x train will have the sets data values i.e. the past 60 days data divided into sets of (0,59), (1,60), (2,61) etc.\n",
        "  #y train will have the target values, for each set the target value is the closing price of the next day, i.e. for x_train (0,59) the target will be the closing price of 60th day. \n",
        "  for j in range(60, len(train_data[var])):\n",
        "    x_train[var].append(train_data[var][j-60:j,0])\n",
        "    \n"
      ]
    },
    {
      "cell_type": "code",
      "execution_count": 11,
      "metadata": {
        "id": "VOLQ29sNZcKs"
      },
      "outputs": [],
      "source": [
        "#Fuction to split the y training dataset \n",
        "def split_y_train(var):\n",
        "  for j in range(60, len(train_data[var])):\n",
        "    y_train[var].append(train_data[var][j,0])"
      ]
    },
    {
      "cell_type": "code",
      "execution_count": 12,
      "metadata": {
        "id": "9VvVyg8eFgaf"
      },
      "outputs": [],
      "source": [
        "def convert(i):\n",
        "  #currently x_train and y_train are simply lists, so we convert them to numpy arrays\n",
        "  x_train[i], y_train[i]=np.array(x_train[i]), np.array(y_train[i])"
      ]
    },
    {
      "cell_type": "code",
      "execution_count": 13,
      "metadata": {
        "id": "BwACpCvZurmQ"
      },
      "outputs": [],
      "source": [
        "def re_shp(i) :\n",
        "  x_train[i]=np.reshape(x_train[i],(x_train[i].shape[0],x_train[i].shape[1],1))\n",
        "\n",
        "  #For i=0, this statement is equivalent to np.reshape(x_train,(134,60,1))   134 instances, 60 features\n",
        "  #LSTMs expect a 3D input"
      ]
    },
    {
      "cell_type": "code",
      "execution_count": 14,
      "metadata": {
        "id": "izx7Ah6mQzTi"
      },
      "outputs": [],
      "source": [
        "#Fuction to split the x testing dataset \n",
        "def split_x_test(i):\n",
        "  test_data[i]=scaled_data[i][training_data_len[i]-60:,:]\n",
        "  for j in range(60, len(test_data[i])):\n",
        "   x_test[i].append(test_data[i][j-60:j,0])\n"
      ]
    },
    {
      "cell_type": "code",
      "source": [],
      "metadata": {
        "id": "ivPmMdovR_06"
      },
      "execution_count": 14,
      "outputs": []
    },
    {
      "cell_type": "code",
      "execution_count": 15,
      "metadata": {
        "id": "QkjTygyHVlSr"
      },
      "outputs": [],
      "source": [
        "def split_y_test(i):\n",
        "  y_test[i]=dataset[i][training_data_len[i]:, :]\n",
        "  "
      ]
    },
    {
      "cell_type": "code",
      "execution_count": 16,
      "metadata": {
        "id": "bUSnIMzOWZ_v"
      },
      "outputs": [],
      "source": [
        "def conv_x_test(i):\n",
        "#Convert test data set to numpy array\n",
        "  x_test[i]=np.array(x_test[i])\n",
        "#Reshape the data\n",
        "  x_test[i]=np.reshape(x_test[i],(x_test[i].shape[0],x_test[i].shape[1],1))"
      ]
    },
    {
      "cell_type": "code",
      "execution_count": 17,
      "metadata": {
        "id": "9afgXZuPVXAe"
      },
      "outputs": [],
      "source": [
        "def scale(i):\n",
        "  scaler=MinMaxScaler(feature_range=(0,1))\n",
        "  scaled_data[i]=scaler.fit_transform(dataset[i])\n",
        "  predictions[i]=scaler.inverse_transform(predictions[i])"
      ]
    },
    {
      "cell_type": "code",
      "execution_count": 18,
      "metadata": {
        "id": "mNyIXQK6uUzy"
      },
      "outputs": [],
      "source": [
        "def cleaning(listt):\n",
        "  for i in range (0,5):\n",
        "    if not(listt[i].isnull().values.any()):\n",
        "      chng_index(listt[i])\n",
        "      # # plotter(listt[i])\n",
        "      extract(listt[i],i)\n",
        "      split_x_train(i)\n",
        "      split_y_train(i)\n",
        "      convert(i)\n",
        "      re_shp(i)\n",
        "      split_x_test(i)\n",
        "      split_y_test(i)\n",
        "      conv_x_test(i)\n",
        "      #scale(i)"
      ]
    },
    {
      "cell_type": "code",
      "execution_count": 19,
      "metadata": {
        "id": "_-J8LV_pqZEg"
      },
      "outputs": [],
      "source": [
        "cleaning(df_list)"
      ]
    },
    {
      "cell_type": "code",
      "source": [
        "model1= load_model('M&M.h5')"
      ],
      "metadata": {
        "id": "tqMtU4czz60D"
      },
      "execution_count": 21,
      "outputs": []
    },
    {
      "cell_type": "code",
      "source": [
        "predictions[0]=model1.predict(x_test[0])\n",
        "scale(0)"
      ],
      "metadata": {
        "colab": {
          "base_uri": "https://localhost:8080/"
        },
        "id": "_GN2k5TYPI3c",
        "outputId": "6a32e6e3-b7f7-4c36-f770-6db5d6a1dc84"
      },
      "execution_count": 22,
      "outputs": [
        {
          "output_type": "stream",
          "name": "stdout",
          "text": [
            "2/2 [==============================] - 1s 17ms/step\n"
          ]
        }
      ]
    },
    {
      "cell_type": "code",
      "source": [
        "rmse=np.sqrt(np.mean(predictions[0]-y_test[0])**2)\n",
        "rmse"
      ],
      "metadata": {
        "colab": {
          "base_uri": "https://localhost:8080/"
        },
        "id": "xsnjstDzPQFc",
        "outputId": "bf1f7373-a8c0-4b69-d01e-eaeabcc9f585"
      },
      "execution_count": 23,
      "outputs": [
        {
          "output_type": "execute_result",
          "data": {
            "text/plain": [
              "0.3374715169270767"
            ]
          },
          "metadata": {},
          "execution_count": 23
        }
      ]
    },
    {
      "cell_type": "markdown",
      "source": [
        "Building the 2nd model"
      ],
      "metadata": {
        "id": "KOpssRWt1Q_B"
      }
    },
    {
      "cell_type": "code",
      "source": [
        "model2_on_1=keras.models.Sequential(model1.layers[:-1])\n",
        "model2_on_1.add(Dense(1))"
      ],
      "metadata": {
        "id": "7SdfXe42UVwB"
      },
      "execution_count": 52,
      "outputs": []
    },
    {
      "cell_type": "code",
      "source": [
        "#Freezing the new models layers\n",
        "for layer in model2_on_1.layers[:-1]:\n",
        "  layer.trainable = False\n",
        "\n",
        "optimizer=keras.optimizers.Adam(lr=1e-2)\n",
        "model2_on_1.compile(optimizer=optimizer, loss='mean_squared_error', metrics=['accuracy'])"
      ],
      "metadata": {
        "colab": {
          "base_uri": "https://localhost:8080/"
        },
        "id": "cwVOT0FzUkYJ",
        "outputId": "14bebe22-acd5-4747-c85b-68bdef0afcff"
      },
      "execution_count": 53,
      "outputs": [
        {
          "output_type": "stream",
          "name": "stderr",
          "text": [
            "/usr/local/lib/python3.10/dist-packages/keras/optimizers/legacy/adam.py:117: UserWarning: The `lr` argument is deprecated, use `learning_rate` instead.\n",
            "  super().__init__(name, **kwargs)\n"
          ]
        }
      ]
    },
    {
      "cell_type": "code",
      "source": [
        "model2_on_1.fit(x_train[1], y_train[1], batch_size=1, epochs=20)"
      ],
      "metadata": {
        "colab": {
          "base_uri": "https://localhost:8080/"
        },
        "id": "XBFgOiW5Uti7",
        "outputId": "242713aa-fe3c-48fe-d51f-ea81dee7a6af"
      },
      "execution_count": 54,
      "outputs": [
        {
          "output_type": "stream",
          "name": "stdout",
          "text": [
            "Epoch 1/20\n",
            "140/140 [==============================] - 6s 9ms/step - loss: 0.1111 - accuracy: 0.0071\n",
            "Epoch 2/20\n",
            "140/140 [==============================] - 1s 9ms/step - loss: 0.0044 - accuracy: 0.0071\n",
            "Epoch 3/20\n",
            "140/140 [==============================] - 1s 10ms/step - loss: 0.0025 - accuracy: 0.0071\n",
            "Epoch 4/20\n",
            "140/140 [==============================] - 1s 9ms/step - loss: 0.0024 - accuracy: 0.0071\n",
            "Epoch 5/20\n",
            "140/140 [==============================] - 1s 9ms/step - loss: 0.0025 - accuracy: 0.0071\n",
            "Epoch 6/20\n",
            "140/140 [==============================] - 1s 9ms/step - loss: 0.0025 - accuracy: 0.0071\n",
            "Epoch 7/20\n",
            "140/140 [==============================] - 2s 12ms/step - loss: 0.0025 - accuracy: 0.0071\n",
            "Epoch 8/20\n",
            "140/140 [==============================] - 2s 14ms/step - loss: 0.0025 - accuracy: 0.0071\n",
            "Epoch 9/20\n",
            "140/140 [==============================] - 1s 9ms/step - loss: 0.0024 - accuracy: 0.0071\n",
            "Epoch 10/20\n",
            "140/140 [==============================] - 1s 9ms/step - loss: 0.0026 - accuracy: 0.0071\n",
            "Epoch 11/20\n",
            "140/140 [==============================] - 1s 9ms/step - loss: 0.0024 - accuracy: 0.0071\n",
            "Epoch 12/20\n",
            "140/140 [==============================] - 1s 9ms/step - loss: 0.0026 - accuracy: 0.0071\n",
            "Epoch 13/20\n",
            "140/140 [==============================] - 1s 10ms/step - loss: 0.0026 - accuracy: 0.0071\n",
            "Epoch 14/20\n",
            "140/140 [==============================] - 1s 10ms/step - loss: 0.0025 - accuracy: 0.0071\n",
            "Epoch 15/20\n",
            "140/140 [==============================] - 1s 9ms/step - loss: 0.0026 - accuracy: 0.0071\n",
            "Epoch 16/20\n",
            "140/140 [==============================] - 2s 11ms/step - loss: 0.0027 - accuracy: 0.0071\n",
            "Epoch 17/20\n",
            "140/140 [==============================] - 2s 14ms/step - loss: 0.0026 - accuracy: 0.0071\n",
            "Epoch 18/20\n",
            "140/140 [==============================] - 1s 10ms/step - loss: 0.0027 - accuracy: 0.0071\n",
            "Epoch 19/20\n",
            "140/140 [==============================] - 1s 9ms/step - loss: 0.0027 - accuracy: 0.0071\n",
            "Epoch 20/20\n",
            "140/140 [==============================] - 1s 9ms/step - loss: 0.0028 - accuracy: 0.0071\n"
          ]
        },
        {
          "output_type": "execute_result",
          "data": {
            "text/plain": [
              "<keras.callbacks.History at 0x7f5870dd7820>"
            ]
          },
          "metadata": {},
          "execution_count": 54
        }
      ]
    },
    {
      "cell_type": "code",
      "source": [
        "predictions[1]=model2_on_1.predict(x_test[1])\n",
        "scale(1)"
      ],
      "metadata": {
        "colab": {
          "base_uri": "https://localhost:8080/"
        },
        "id": "byMlfnlTGK1D",
        "outputId": "58d9e86d-6136-477c-bc84-48c25fdcf6cb"
      },
      "execution_count": 55,
      "outputs": [
        {
          "output_type": "stream",
          "name": "stdout",
          "text": [
            "2/2 [==============================] - 1s 27ms/step\n"
          ]
        }
      ]
    },
    {
      "cell_type": "code",
      "source": [
        "rmse=np.sqrt(np.mean(predictions[1]-y_test[1])**2)\n",
        "rmse"
      ],
      "metadata": {
        "colab": {
          "base_uri": "https://localhost:8080/"
        },
        "id": "uWgYEL64GY8O",
        "outputId": "e2435463-869c-4192-f0c6-ee527550686f"
      },
      "execution_count": 56,
      "outputs": [
        {
          "output_type": "execute_result",
          "data": {
            "text/plain": [
              "2.4354950573979295"
            ]
          },
          "metadata": {},
          "execution_count": 56
        }
      ]
    },
    {
      "cell_type": "code",
      "source": [
        "train=data[0][:training_data_len[0]]\n",
        "valid=data[0][training_data_len[0]:]\n",
        "valid=valid.to_frame(name='Close Price')\n",
        "valid['Predictions']=predictions[0]\n",
        "#Visualize\n",
        "plt.figure(figsize=(16,8))\n",
        "plt.title('M&M')\n",
        "plt.xlabel('Date',fontsize=18)\n",
        "plt.ylabel('Close Price Rs.', fontsize=18)\n",
        "# plt.plot(train['Close Price '])\n",
        "plt.plot(train) \n",
        "plt.plot(valid[['Close Price', 'Predictions']])\n",
        "plt.legend(['Train', 'Val', 'Predictions'], loc='lower right')\n",
        "plt.show()"
      ],
      "metadata": {
        "colab": {
          "base_uri": "https://localhost:8080/",
          "height": 592
        },
        "id": "6z16GIYWPZjX",
        "outputId": "b3e0e784-3ee8-4b47-af99-cfd7f7556f48"
      },
      "execution_count": 25,
      "outputs": [
        {
          "output_type": "display_data",
          "data": {
            "text/plain": [
              "<Figure size 1600x800 with 1 Axes>"
            ],
            "image/png": "[encoded data removed]"
          },
          "metadata": {}
        }
      ]
    },
    {
      "cell_type": "code",
      "source": [
        "valid"
      ],
      "metadata": {
        "colab": {
          "base_uri": "https://localhost:8080/",
          "height": 1000
        },
        "id": "1Zm5pqetT7Z-",
        "outputId": "f18140d0-5512-4efe-a413-b834bdf03fbf"
      },
      "execution_count": 26,
      "outputs": [
        {
          "output_type": "execute_result",
          "data": {
            "text/plain": [
              "            Close Price  Predictions\n",
              "2023-02-07      1366.70  1351.703369\n",
              "2023-02-08      1373.05  1349.359497\n",
              "2023-02-09      1372.20  1354.182007\n",
              "2023-02-10      1365.45  1350.793091\n",
              "2023-02-13      1353.00  1344.586670\n",
              "2023-02-14      1363.15  1333.125488\n",
              "2023-02-15      1379.35  1342.834473\n",
              "2023-02-16      1368.15  1354.272217\n",
              "2023-02-17      1341.50  1342.162842\n",
              "2023-02-20      1346.25  1321.171753\n",
              "2023-02-21      1351.85  1327.497803\n",
              "2023-02-22      1319.75  1328.691406\n",
              "2023-02-23      1313.95  1298.846436\n",
              "2023-02-24      1280.20  1297.589111\n",
              "2023-02-27      1257.40  1264.982910\n",
              "2023-02-28      1269.60  1247.501465\n",
              "2023-03-01      1272.15  1257.601196\n",
              "2023-03-02      1251.55  1258.154053\n",
              "2023-03-03      1268.60  1241.898315\n",
              "2023-03-06      1270.45  1260.247803\n",
              "2023-03-06      1270.45  1260.865967\n",
              "2023-03-08      1289.95  1263.351807\n",
              "2023-03-09      1248.15  1282.287598\n",
              "2023-03-10      1226.70  1244.609863\n",
              "2023-03-13      1193.45  1232.296631\n",
              "2023-03-14      1160.80  1204.952881\n",
              "2023-03-15      1160.35  1181.021118\n",
              "2023-03-16      1167.05  1183.780884\n",
              "2023-03-17      1171.50  1193.558716\n",
              "2023-03-20      1167.65  1201.387085\n",
              "2023-03-21      1160.30  1201.488770\n",
              "2023-03-22      1164.10  1198.131470\n",
              "2023-03-23      1164.95  1203.308716\n",
              "2023-03-24      1150.80  1205.215210\n",
              "2023-03-27      1137.90  1194.563477\n",
              "2023-03-28      1128.30  1185.538818\n",
              "2023-03-29      1144.30  1179.883301\n",
              "2023-03-31      1158.70  1195.000488\n",
              "2023-04-03      1169.90  1208.074341\n",
              "2023-04-05      1155.45  1215.992188\n",
              "2023-04-06      1171.25  1201.747070\n",
              "2023-04-10      1188.60  1212.921143\n",
              "2023-04-11      1201.70  1224.879761\n",
              "2023-04-12      1207.35  1232.197510\n",
              "2023-04-13      1204.55  1233.264404\n",
              "2023-04-17      1212.95  1228.067993\n",
              "2023-04-18      1204.70  1233.380981\n",
              "2023-04-19      1215.50  1224.463501"
            ],
            "text/html": [
              "\n",
              "  <div id=\"df-48a413a8-7712-4d62-b011-40a84ed0a689\">\n",
              "    <div class=\"colab-df-container\">\n",
              "      <div>\n",
              "<style scoped>\n",
              "    .dataframe tbody tr th:only-of-type {\n",
              "        vertical-align: middle;\n",
              "    }\n",
              "\n",
              "    .dataframe tbody tr th {\n",
              "        vertical-align: top;\n",
              "    }\n",
              "\n",
              "    .dataframe thead th {\n",
              "        text-align: right;\n",
              "    }\n",
              "</style>\n",
              "<table border=\"1\" class=\"dataframe\">\n",
              "  <thead>\n",
              "    <tr style=\"text-align: right;\">\n",
              "      <th></th>\n",
              "      <th>Close Price</th>\n",
              "      <th>Predictions</th>\n",
              "    </tr>\n",
              "  </thead>\n",
              "  <tbody>\n",
              "    <tr>\n",
              "      <th>2023-02-07</th>\n",
              "      <td>1366.70</td>\n",
              "      <td>1351.703369</td>\n",
              "    </tr>\n",
              "    <tr>\n",
              "      <th>2023-02-08</th>\n",
              "      <td>1373.05</td>\n",
              "      <td>1349.359497</td>\n",
              "    </tr>\n",
              "    <tr>\n",
              "      <th>2023-02-09</th>\n",
              "      <td>1372.20</td>\n",
              "      <td>1354.182007</td>\n",
              "    </tr>\n",
              "    <tr>\n",
              "      <th>2023-02-10</th>\n",
              "      <td>1365.45</td>\n",
              "      <td>1350.793091</td>\n",
              "    </tr>\n",
              "    <tr>\n",
              "      <th>2023-02-13</th>\n",
              "      <td>1353.00</td>\n",
              "      <td>1344.586670</td>\n",
              "    </tr>\n",
              "    <tr>\n",
              "      <th>2023-02-14</th>\n",
              "      <td>1363.15</td>\n",
              "      <td>1333.125488</td>\n",
              "    </tr>\n",
              "    <tr>\n",
              "      <th>2023-02-15</th>\n",
              "      <td>1379.35</td>\n",
              "      <td>1342.834473</td>\n",
              "    </tr>\n",
              "    <tr>\n",
              "      <th>2023-02-16</th>\n",
              "      <td>1368.15</td>\n",
              "      <td>1354.272217</td>\n",
              "    </tr>\n",
              "    <tr>\n",
              "      <th>2023-02-17</th>\n",
              "      <td>1341.50</td>\n",
              "      <td>1342.162842</td>\n",
              "    </tr>\n",
              "    <tr>\n",
              "      <th>2023-02-20</th>\n",
              "      <td>1346.25</td>\n",
              "      <td>1321.171753</td>\n",
              "    </tr>\n",
              "    <tr>\n",
              "      <th>2023-02-21</th>\n",
              "      <td>1351.85</td>\n",
              "      <td>1327.497803</td>\n",
              "    </tr>\n",
              "    <tr>\n",
              "      <th>2023-02-22</th>\n",
              "      <td>1319.75</td>\n",
              "      <td>1328.691406</td>\n",
              "    </tr>\n",
              "    <tr>\n",
              "      <th>2023-02-23</th>\n",
              "      <td>1313.95</td>\n",
              "      <td>1298.846436</td>\n",
              "    </tr>\n",
              "    <tr>\n",
              "      <th>2023-02-24</th>\n",
              "      <td>1280.20</td>\n",
              "      <td>1297.589111</td>\n",
              "    </tr>\n",
              "    <tr>\n",
              "      <th>2023-02-27</th>\n",
              "      <td>1257.40</td>\n",
              "      <td>1264.982910</td>\n",
              "    </tr>\n",
              "    <tr>\n",
              "      <th>2023-02-28</th>\n",
              "      <td>1269.60</td>\n",
              "      <td>1247.501465</td>\n",
              "    </tr>\n",
              "    <tr>\n",
              "      <th>2023-03-01</th>\n",
              "      <td>1272.15</td>\n",
              "      <td>1257.601196</td>\n",
              "    </tr>\n",
              "    <tr>\n",
              "      <th>2023-03-02</th>\n",
              "      <td>1251.55</td>\n",
              "      <td>1258.154053</td>\n",
              "    </tr>\n",
              "    <tr>\n",
              "      <th>2023-03-03</th>\n",
              "      <td>1268.60</td>\n",
              "      <td>1241.898315</td>\n",
              "    </tr>\n",
              "    <tr>\n",
              "      <th>2023-03-06</th>\n",
              "      <td>1270.45</td>\n",
              "      <td>1260.247803</td>\n",
              "    </tr>\n",
              "    <tr>\n",
              "      <th>2023-03-06</th>\n",
              "      <td>1270.45</td>\n",
              "      <td>1260.865967</td>\n",
              "    </tr>\n",
              "    <tr>\n",
              "      <th>2023-03-08</th>\n",
              "      <td>1289.95</td>\n",
              "      <td>1263.351807</td>\n",
              "    </tr>\n",
              "    <tr>\n",
              "      <th>2023-03-09</th>\n",
              "      <td>1248.15</td>\n",
              "      <td>1282.287598</td>\n",
              "    </tr>\n",
              "    <tr>\n",
              "      <th>2023-03-10</th>\n",
              "      <td>1226.70</td>\n",
              "      <td>1244.609863</td>\n",
              "    </tr>\n",
              "    <tr>\n",
              "      <th>2023-03-13</th>\n",
              "      <td>1193.45</td>\n",
              "      <td>1232.296631</td>\n",
              "    </tr>\n",
              "    <tr>\n",
              "      <th>2023-03-14</th>\n",
              "      <td>1160.80</td>\n",
              "      <td>1204.952881</td>\n",
              "    </tr>\n",
              "    <tr>\n",
              "      <th>2023-03-15</th>\n",
              "      <td>1160.35</td>\n",
              "      <td>1181.021118</td>\n",
              "    </tr>\n",
              "    <tr>\n",
              "      <th>2023-03-16</th>\n",
              "      <td>1167.05</td>\n",
              "      <td>1183.780884</td>\n",
              "    </tr>\n",
              "    <tr>\n",
              "      <th>2023-03-17</th>\n",
              "      <td>1171.50</td>\n",
              "      <td>1193.558716</td>\n",
              "    </tr>\n",
              "    <tr>\n",
              "      <th>2023-03-20</th>\n",
              "      <td>1167.65</td>\n",
              "      <td>1201.387085</td>\n",
              "    </tr>\n",
              "    <tr>\n",
              "      <th>2023-03-21</th>\n",
              "      <td>1160.30</td>\n",
              "      <td>1201.488770</td>\n",
              "    </tr>\n",
              "    <tr>\n",
              "      <th>2023-03-22</th>\n",
              "      <td>1164.10</td>\n",
              "      <td>1198.131470</td>\n",
              "    </tr>\n",
              "    <tr>\n",
              "      <th>2023-03-23</th>\n",
              "      <td>1164.95</td>\n",
              "      <td>1203.308716</td>\n",
              "    </tr>\n",
              "    <tr>\n",
              "      <th>2023-03-24</th>\n",
              "      <td>1150.80</td>\n",
              "      <td>1205.215210</td>\n",
              "    </tr>\n",
              "    <tr>\n",
              "      <th>2023-03-27</th>\n",
              "      <td>1137.90</td>\n",
              "      <td>1194.563477</td>\n",
              "    </tr>\n",
              "    <tr>\n",
              "      <th>2023-03-28</th>\n",
              "      <td>1128.30</td>\n",
              "      <td>1185.538818</td>\n",
              "    </tr>\n",
              "    <tr>\n",
              "      <th>2023-03-29</th>\n",
              "      <td>1144.30</td>\n",
              "      <td>1179.883301</td>\n",
              "    </tr>\n",
              "    <tr>\n",
              "      <th>2023-03-31</th>\n",
              "      <td>1158.70</td>\n",
              "      <td>1195.000488</td>\n",
              "    </tr>\n",
              "    <tr>\n",
              "      <th>2023-04-03</th>\n",
              "      <td>1169.90</td>\n",
              "      <td>1208.074341</td>\n",
              "    </tr>\n",
              "    <tr>\n",
              "      <th>2023-04-05</th>\n",
              "      <td>1155.45</td>\n",
              "      <td>1215.992188</td>\n",
              "    </tr>\n",
              "    <tr>\n",
              "      <th>2023-04-06</th>\n",
              "      <td>1171.25</td>\n",
              "      <td>1201.747070</td>\n",
              "    </tr>\n",
              "    <tr>\n",
              "      <th>2023-04-10</th>\n",
              "      <td>1188.60</td>\n",
              "      <td>1212.921143</td>\n",
              "    </tr>\n",
              "    <tr>\n",
              "      <th>2023-04-11</th>\n",
              "      <td>1201.70</td>\n",
              "      <td>1224.879761</td>\n",
              "    </tr>\n",
              "    <tr>\n",
              "      <th>2023-04-12</th>\n",
              "      <td>1207.35</td>\n",
              "      <td>1232.197510</td>\n",
              "    </tr>\n",
              "    <tr>\n",
              "      <th>2023-04-13</th>\n",
              "      <td>1204.55</td>\n",
              "      <td>1233.264404</td>\n",
              "    </tr>\n",
              "    <tr>\n",
              "      <th>2023-04-17</th>\n",
              "      <td>1212.95</td>\n",
              "      <td>1228.067993</td>\n",
              "    </tr>\n",
              "    <tr>\n",
              "      <th>2023-04-18</th>\n",
              "      <td>1204.70</td>\n",
              "      <td>1233.380981</td>\n",
              "    </tr>\n",
              "    <tr>\n",
              "      <th>2023-04-19</th>\n",
              "      <td>1215.50</td>\n",
              "      <td>1224.463501</td>\n",
              "    </tr>\n",
              "  </tbody>\n",
              "</table>\n",
              "</div>\n",
              "      <button class=\"colab-df-convert\" onclick=\"convertToInteractive('df-48a413a8-7712-4d62-b011-40a84ed0a689')\"\n",
              "              title=\"Convert this dataframe to an interactive table.\"\n",
              "              style=\"display:none;\">\n",
              "        \n",
              "  <svg xmlns=\"http://www.w3.org/2000/svg\" height=\"24px\"viewBox=\"0 0 24 24\"\n",
              "       width=\"24px\">\n",
              "    <path d=\"M0 0h24v24H0V0z\" fill=\"none\"/>\n",
              "    <path d=\"M18.56 5.44l.94 2.06.94-2.06 2.06-.94-2.06-.94-.94-2.06-.94 2.06-2.06.94zm-11 1L8.5 8.5l.94-2.06 2.06-.94-2.06-.94L8.5 2.5l-.94 2.06-2.06.94zm10 10l.94 2.06.94-2.06 2.06-.94-2.06-.94-.94-2.06-.94 2.06-2.06.94z\"/><path d=\"M17.41 7.96l-1.37-1.37c-.4-.4-.92-.59-1.43-.59-.52 0-1.04.2-1.43.59L10.3 9.45l-7.72 7.72c-.78.78-.78 2.05 0 2.83L4 21.41c.39.39.9.59 1.41.59.51 0 1.02-.2 1.41-.59l7.78-7.78 2.81-2.81c.8-.78.8-2.07 0-2.86zM5.41 20L4 18.59l7.72-7.72 1.47 1.35L5.41 20z\"/>\n",
              "  </svg>\n",
              "      </button>\n",
              "      \n",
              "  <style>\n",
              "    .colab-df-container {\n",
              "      display:flex;\n",
              "      flex-wrap:wrap;\n",
              "      gap: 12px;\n",
              "    }\n",
              "\n",
              "    .colab-df-convert {\n",
              "      background-color: #E8F0FE;\n",
              "      border: none;\n",
              "      border-radius: 50%;\n",
              "      cursor: pointer;\n",
              "      display: none;\n",
              "      fill: #1967D2;\n",
              "      height: 32px;\n",
              "      padding: 0 0 0 0;\n",
              "      width: 32px;\n",
              "    }\n",
              "\n",
              "    .colab-df-convert:hover {\n",
              "      background-color: #E2EBFA;\n",
              "      box-shadow: 0px 1px 2px rgba(60, 64, 67, 0.3), 0px 1px 3px 1px rgba(60, 64, 67, 0.15);\n",
              "      fill: #174EA6;\n",
              "    }\n",
              "\n",
              "    [theme=dark] .colab-df-convert {\n",
              "      background-color: #3B4455;\n",
              "      fill: #D2E3FC;\n",
              "    }\n",
              "\n",
              "    [theme=dark] .colab-df-convert:hover {\n",
              "      background-color: #434B5C;\n",
              "      box-shadow: 0px 1px 3px 1px rgba(0, 0, 0, 0.15);\n",
              "      filter: drop-shadow(0px 1px 2px rgba(0, 0, 0, 0.3));\n",
              "      fill: #FFFFFF;\n",
              "    }\n",
              "  </style>\n",
              "\n",
              "      <script>\n",
              "        const buttonEl =\n",
              "          document.querySelector('#df-48a413a8-7712-4d62-b011-40a84ed0a689 button.colab-df-convert');\n",
              "        buttonEl.style.display =\n",
              "          google.colab.kernel.accessAllowed ? 'block' : 'none';\n",
              "\n",
              "        async function convertToInteractive(key) {\n",
              "          const element = document.querySelector('#df-48a413a8-7712-4d62-b011-40a84ed0a689');\n",
              "          const dataTable =\n",
              "            await google.colab.kernel.invokeFunction('convertToInteractive',\n",
              "                                                     [key], {});\n",
              "          if (!dataTable) return;\n",
              "\n",
              "          const docLinkHtml = 'Like what you see? Visit the ' +\n",
              "            '<a target=\"_blank\" href=https://colab.research.google.com/notebooks/data_table.ipynb>data table notebook</a>'\n",
              "            + ' to learn more about interactive tables.';\n",
              "          element.innerHTML = '';\n",
              "          dataTable['output_type'] = 'display_data';\n",
              "          await google.colab.output.renderOutput(dataTable, element);\n",
              "          const docLink = document.createElement('div');\n",
              "          docLink.innerHTML = docLinkHtml;\n",
              "          element.appendChild(docLink);\n",
              "        }\n",
              "      </script>\n",
              "    </div>\n",
              "  </div>\n",
              "  "
            ]
          },
          "metadata": {},
          "execution_count": 26
        }
      ]
    },
    {
      "cell_type": "code",
      "source": [
        "train=data[1][:training_data_len[1]]\n",
        "valid=data[1][training_data_len[1]:]\n",
        "valid=valid.to_frame(name='Close Price')\n",
        "valid['Predictions']=predictions[1]\n",
        "#Visualize\n",
        "plt.figure(figsize=(16,8))\n",
        "plt.title('MARUTI')\n",
        "plt.xlabel('Date',fontsize=18)\n",
        "plt.ylabel('Close Price Rs.', fontsize=18)\n",
        "# plt.plot(train['Close Price '])\n",
        "plt.plot(train) \n",
        "plt.plot(valid[['Close Price', 'Predictions']])\n",
        "plt.legend(['Train', 'Val', 'Predictions'], loc='lower right')\n",
        "plt.show()"
      ],
      "metadata": {
        "colab": {
          "base_uri": "https://localhost:8080/",
          "height": 593
        },
        "id": "_lvRnbi9XXtk",
        "outputId": "49e66ac6-6b3b-4d74-a885-816331491698"
      },
      "execution_count": 59,
      "outputs": [
        {
          "output_type": "display_data",
          "data": {
            "text/plain": [
              "<Figure size 1600x800 with 1 Axes>"
            ],
            "image/png": "[encoded data removed]"
          },
          "metadata": {}
        }
      ]
    },
    {
      "cell_type": "code",
      "source": [
        "valid"
      ],
      "metadata": {
        "colab": {
          "base_uri": "https://localhost:8080/",
          "height": 1000
        },
        "id": "KKK0m2WFYzMY",
        "outputId": "8b5ea548-f223-4cf7-cd58-99f7b69fa6e8"
      },
      "execution_count": 61,
      "outputs": [
        {
          "output_type": "execute_result",
          "data": {
            "text/plain": [
              "            Close Price  Predictions\n",
              "2023-02-06      8908.00  8949.849609\n",
              "2023-02-07      8762.45  8905.003906\n",
              "2023-02-08      8834.70  8733.538086\n",
              "2023-02-09      8801.20  8843.457031\n",
              "2023-02-10      8811.35  8782.192383\n",
              "2023-02-13      8809.45  8811.645508\n",
              "2023-02-14      8774.45  8800.479492\n",
              "2023-02-15      8845.35  8761.900391\n",
              "2023-02-16      8805.10  8853.902344\n",
              "2023-02-17      8807.75  8789.562500\n",
              "2023-02-20      8693.65  8806.152344\n",
              "2023-02-21      8669.85  8665.300781\n",
              "2023-02-22      8658.95  8653.963867\n",
              "2023-02-23      8696.25  8635.365234\n",
              "2023-02-24      8660.50  8681.506836\n",
              "2023-02-27      8632.20  8637.793945\n",
              "2023-02-28      8624.35  8612.409180\n",
              "2023-03-01      8764.15  8601.825195\n",
              "2023-03-02      8548.75  8767.055664\n",
              "2023-03-03      8601.25  8522.316406\n",
              "2023-03-06      8631.45  8586.290039\n",
              "2023-03-08      8693.90  8602.832031\n",
              "2023-03-09      8541.95  8681.835938\n",
              "2023-03-10      8601.55  8520.493164\n",
              "2023-03-13      8518.40  8582.293945\n",
              "2023-03-14      8512.15  8495.051758\n",
              "2023-03-15      8474.95  8492.186523\n",
              "2023-03-16      8437.45  8456.964844\n",
              "2023-03-17      8316.85  8427.422852\n",
              "2023-03-20      8219.60  8351.205078\n",
              "2023-03-21      8228.40  8301.833008\n",
              "2023-03-22      8252.40  8297.097656\n",
              "2023-03-23      8353.20  8305.646484\n",
              "2023-03-24      8242.90  8354.214844\n",
              "2023-03-27      8278.35  8310.999023\n",
              "2023-03-28      8208.80  8319.304688\n",
              "2023-03-29      8295.30  8293.635742\n",
              "2023-03-31      8292.15  8323.185547\n",
              "2023-04-03      8503.05  8326.521484\n",
              "2023-04-05      8447.05  8464.807617\n",
              "2023-04-06      8516.65  8434.529297\n",
              "2023-04-10      8535.15  8492.765625\n",
              "2023-04-11      8659.55  8509.120117\n",
              "2023-04-12      8621.05  8643.572266\n",
              "2023-04-13      8670.80  8596.545898\n",
              "2023-04-17      8674.65  8659.300781\n",
              "2023-04-18      8732.65  8654.482422\n",
              "2023-04-19      8679.95  8727.196289\n",
              "2023-04-20      8714.65  8657.433594"
            ],
            "text/html": [
              "\n",
              "  <div id=\"df-90411b00-e475-4909-8124-c9083917020c\">\n",
              "    <div class=\"colab-df-container\">\n",
              "      <div>\n",
              "<style scoped>\n",
              "    .dataframe tbody tr th:only-of-type {\n",
              "        vertical-align: middle;\n",
              "    }\n",
              "\n",
              "    .dataframe tbody tr th {\n",
              "        vertical-align: top;\n",
              "    }\n",
              "\n",
              "    .dataframe thead th {\n",
              "        text-align: right;\n",
              "    }\n",
              "</style>\n",
              "<table border=\"1\" class=\"dataframe\">\n",
              "  <thead>\n",
              "    <tr style=\"text-align: right;\">\n",
              "      <th></th>\n",
              "      <th>Close Price</th>\n",
              "      <th>Predictions</th>\n",
              "    </tr>\n",
              "  </thead>\n",
              "  <tbody>\n",
              "    <tr>\n",
              "      <th>2023-02-06</th>\n",
              "      <td>8908.00</td>\n",
              "      <td>8949.849609</td>\n",
              "    </tr>\n",
              "    <tr>\n",
              "      <th>2023-02-07</th>\n",
              "      <td>8762.45</td>\n",
              "      <td>8905.003906</td>\n",
              "    </tr>\n",
              "    <tr>\n",
              "      <th>2023-02-08</th>\n",
              "      <td>8834.70</td>\n",
              "      <td>8733.538086</td>\n",
              "    </tr>\n",
              "    <tr>\n",
              "      <th>2023-02-09</th>\n",
              "      <td>8801.20</td>\n",
              "      <td>8843.457031</td>\n",
              "    </tr>\n",
              "    <tr>\n",
              "      <th>2023-02-10</th>\n",
              "      <td>8811.35</td>\n",
              "      <td>8782.192383</td>\n",
              "    </tr>\n",
              "    <tr>\n",
              "      <th>2023-02-13</th>\n",
              "      <td>8809.45</td>\n",
              "      <td>8811.645508</td>\n",
              "    </tr>\n",
              "    <tr>\n",
              "      <th>2023-02-14</th>\n",
              "      <td>8774.45</td>\n",
              "      <td>8800.479492</td>\n",
              "    </tr>\n",
              "    <tr>\n",
              "      <th>2023-02-15</th>\n",
              "      <td>8845.35</td>\n",
              "      <td>8761.900391</td>\n",
              "    </tr>\n",
              "    <tr>\n",
              "      <th>2023-02-16</th>\n",
              "      <td>8805.10</td>\n",
              "      <td>8853.902344</td>\n",
              "    </tr>\n",
              "    <tr>\n",
              "      <th>2023-02-17</th>\n",
              "      <td>8807.75</td>\n",
              "      <td>8789.562500</td>\n",
              "    </tr>\n",
              "    <tr>\n",
              "      <th>2023-02-20</th>\n",
              "      <td>8693.65</td>\n",
              "      <td>8806.152344</td>\n",
              "    </tr>\n",
              "    <tr>\n",
              "      <th>2023-02-21</th>\n",
              "      <td>8669.85</td>\n",
              "      <td>8665.300781</td>\n",
              "    </tr>\n",
              "    <tr>\n",
              "      <th>2023-02-22</th>\n",
              "      <td>8658.95</td>\n",
              "      <td>8653.963867</td>\n",
              "    </tr>\n",
              "    <tr>\n",
              "      <th>2023-02-23</th>\n",
              "      <td>8696.25</td>\n",
              "      <td>8635.365234</td>\n",
              "    </tr>\n",
              "    <tr>\n",
              "      <th>2023-02-24</th>\n",
              "      <td>8660.50</td>\n",
              "      <td>8681.506836</td>\n",
              "    </tr>\n",
              "    <tr>\n",
              "      <th>2023-02-27</th>\n",
              "      <td>8632.20</td>\n",
              "      <td>8637.793945</td>\n",
              "    </tr>\n",
              "    <tr>\n",
              "      <th>2023-02-28</th>\n",
              "      <td>8624.35</td>\n",
              "      <td>8612.409180</td>\n",
              "    </tr>\n",
              "    <tr>\n",
              "      <th>2023-03-01</th>\n",
              "      <td>8764.15</td>\n",
              "      <td>8601.825195</td>\n",
              "    </tr>\n",
              "    <tr>\n",
              "      <th>2023-03-02</th>\n",
              "      <td>8548.75</td>\n",
              "      <td>8767.055664</td>\n",
              "    </tr>\n",
              "    <tr>\n",
              "      <th>2023-03-03</th>\n",
              "      <td>8601.25</td>\n",
              "      <td>8522.316406</td>\n",
              "    </tr>\n",
              "    <tr>\n",
              "      <th>2023-03-06</th>\n",
              "      <td>8631.45</td>\n",
              "      <td>8586.290039</td>\n",
              "    </tr>\n",
              "    <tr>\n",
              "      <th>2023-03-08</th>\n",
              "      <td>8693.90</td>\n",
              "      <td>8602.832031</td>\n",
              "    </tr>\n",
              "    <tr>\n",
              "      <th>2023-03-09</th>\n",
              "      <td>8541.95</td>\n",
              "      <td>8681.835938</td>\n",
              "    </tr>\n",
              "    <tr>\n",
              "      <th>2023-03-10</th>\n",
              "      <td>8601.55</td>\n",
              "      <td>8520.493164</td>\n",
              "    </tr>\n",
              "    <tr>\n",
              "      <th>2023-03-13</th>\n",
              "      <td>8518.40</td>\n",
              "      <td>8582.293945</td>\n",
              "    </tr>\n",
              "    <tr>\n",
              "      <th>2023-03-14</th>\n",
              "      <td>8512.15</td>\n",
              "      <td>8495.051758</td>\n",
              "    </tr>\n",
              "    <tr>\n",
              "      <th>2023-03-15</th>\n",
              "      <td>8474.95</td>\n",
              "      <td>8492.186523</td>\n",
              "    </tr>\n",
              "    <tr>\n",
              "      <th>2023-03-16</th>\n",
              "      <td>8437.45</td>\n",
              "      <td>8456.964844</td>\n",
              "    </tr>\n",
              "    <tr>\n",
              "      <th>2023-03-17</th>\n",
              "      <td>8316.85</td>\n",
              "      <td>8427.422852</td>\n",
              "    </tr>\n",
              "    <tr>\n",
              "      <th>2023-03-20</th>\n",
              "      <td>8219.60</td>\n",
              "      <td>8351.205078</td>\n",
              "    </tr>\n",
              "    <tr>\n",
              "      <th>2023-03-21</th>\n",
              "      <td>8228.40</td>\n",
              "      <td>8301.833008</td>\n",
              "    </tr>\n",
              "    <tr>\n",
              "      <th>2023-03-22</th>\n",
              "      <td>8252.40</td>\n",
              "      <td>8297.097656</td>\n",
              "    </tr>\n",
              "    <tr>\n",
              "      <th>2023-03-23</th>\n",
              "      <td>8353.20</td>\n",
              "      <td>8305.646484</td>\n",
              "    </tr>\n",
              "    <tr>\n",
              "      <th>2023-03-24</th>\n",
              "      <td>8242.90</td>\n",
              "      <td>8354.214844</td>\n",
              "    </tr>\n",
              "    <tr>\n",
              "      <th>2023-03-27</th>\n",
              "      <td>8278.35</td>\n",
              "      <td>8310.999023</td>\n",
              "    </tr>\n",
              "    <tr>\n",
              "      <th>2023-03-28</th>\n",
              "      <td>8208.80</td>\n",
              "      <td>8319.304688</td>\n",
              "    </tr>\n",
              "    <tr>\n",
              "      <th>2023-03-29</th>\n",
              "      <td>8295.30</td>\n",
              "      <td>8293.635742</td>\n",
              "    </tr>\n",
              "    <tr>\n",
              "      <th>2023-03-31</th>\n",
              "      <td>8292.15</td>\n",
              "      <td>8323.185547</td>\n",
              "    </tr>\n",
              "    <tr>\n",
              "      <th>2023-04-03</th>\n",
              "      <td>8503.05</td>\n",
              "      <td>8326.521484</td>\n",
              "    </tr>\n",
              "    <tr>\n",
              "      <th>2023-04-05</th>\n",
              "      <td>8447.05</td>\n",
              "      <td>8464.807617</td>\n",
              "    </tr>\n",
              "    <tr>\n",
              "      <th>2023-04-06</th>\n",
              "      <td>8516.65</td>\n",
              "      <td>8434.529297</td>\n",
              "    </tr>\n",
              "    <tr>\n",
              "      <th>2023-04-10</th>\n",
              "      <td>8535.15</td>\n",
              "      <td>8492.765625</td>\n",
              "    </tr>\n",
              "    <tr>\n",
              "      <th>2023-04-11</th>\n",
              "      <td>8659.55</td>\n",
              "      <td>8509.120117</td>\n",
              "    </tr>\n",
              "    <tr>\n",
              "      <th>2023-04-12</th>\n",
              "      <td>8621.05</td>\n",
              "      <td>8643.572266</td>\n",
              "    </tr>\n",
              "    <tr>\n",
              "      <th>2023-04-13</th>\n",
              "      <td>8670.80</td>\n",
              "      <td>8596.545898</td>\n",
              "    </tr>\n",
              "    <tr>\n",
              "      <th>2023-04-17</th>\n",
              "      <td>8674.65</td>\n",
              "      <td>8659.300781</td>\n",
              "    </tr>\n",
              "    <tr>\n",
              "      <th>2023-04-18</th>\n",
              "      <td>8732.65</td>\n",
              "      <td>8654.482422</td>\n",
              "    </tr>\n",
              "    <tr>\n",
              "      <th>2023-04-19</th>\n",
              "      <td>8679.95</td>\n",
              "      <td>8727.196289</td>\n",
              "    </tr>\n",
              "    <tr>\n",
              "      <th>2023-04-20</th>\n",
              "      <td>8714.65</td>\n",
              "      <td>8657.433594</td>\n",
              "    </tr>\n",
              "  </tbody>\n",
              "</table>\n",
              "</div>\n",
              "      <button class=\"colab-df-convert\" onclick=\"convertToInteractive('df-90411b00-e475-4909-8124-c9083917020c')\"\n",
              "              title=\"Convert this dataframe to an interactive table.\"\n",
              "              style=\"display:none;\">\n",
              "        \n",
              "  <svg xmlns=\"http://www.w3.org/2000/svg\" height=\"24px\"viewBox=\"0 0 24 24\"\n",
              "       width=\"24px\">\n",
              "    <path d=\"M0 0h24v24H0V0z\" fill=\"none\"/>\n",
              "    <path d=\"M18.56 5.44l.94 2.06.94-2.06 2.06-.94-2.06-.94-.94-2.06-.94 2.06-2.06.94zm-11 1L8.5 8.5l.94-2.06 2.06-.94-2.06-.94L8.5 2.5l-.94 2.06-2.06.94zm10 10l.94 2.06.94-2.06 2.06-.94-2.06-.94-.94-2.06-.94 2.06-2.06.94z\"/><path d=\"M17.41 7.96l-1.37-1.37c-.4-.4-.92-.59-1.43-.59-.52 0-1.04.2-1.43.59L10.3 9.45l-7.72 7.72c-.78.78-.78 2.05 0 2.83L4 21.41c.39.39.9.59 1.41.59.51 0 1.02-.2 1.41-.59l7.78-7.78 2.81-2.81c.8-.78.8-2.07 0-2.86zM5.41 20L4 18.59l7.72-7.72 1.47 1.35L5.41 20z\"/>\n",
              "  </svg>\n",
              "      </button>\n",
              "      \n",
              "  <style>\n",
              "    .colab-df-container {\n",
              "      display:flex;\n",
              "      flex-wrap:wrap;\n",
              "      gap: 12px;\n",
              "    }\n",
              "\n",
              "    .colab-df-convert {\n",
              "      background-color: #E8F0FE;\n",
              "      border: none;\n",
              "      border-radius: 50%;\n",
              "      cursor: pointer;\n",
              "      display: none;\n",
              "      fill: #1967D2;\n",
              "      height: 32px;\n",
              "      padding: 0 0 0 0;\n",
              "      width: 32px;\n",
              "    }\n",
              "\n",
              "    .colab-df-convert:hover {\n",
              "      background-color: #E2EBFA;\n",
              "      box-shadow: 0px 1px 2px rgba(60, 64, 67, 0.3), 0px 1px 3px 1px rgba(60, 64, 67, 0.15);\n",
              "      fill: #174EA6;\n",
              "    }\n",
              "\n",
              "    [theme=dark] .colab-df-convert {\n",
              "      background-color: #3B4455;\n",
              "      fill: #D2E3FC;\n",
              "    }\n",
              "\n",
              "    [theme=dark] .colab-df-convert:hover {\n",
              "      background-color: #434B5C;\n",
              "      box-shadow: 0px 1px 3px 1px rgba(0, 0, 0, 0.15);\n",
              "      filter: drop-shadow(0px 1px 2px rgba(0, 0, 0, 0.3));\n",
              "      fill: #FFFFFF;\n",
              "    }\n",
              "  </style>\n",
              "\n",
              "      <script>\n",
              "        const buttonEl =\n",
              "          document.querySelector('#df-90411b00-e475-4909-8124-c9083917020c button.colab-df-convert');\n",
              "        buttonEl.style.display =\n",
              "          google.colab.kernel.accessAllowed ? 'block' : 'none';\n",
              "\n",
              "        async function convertToInteractive(key) {\n",
              "          const element = document.querySelector('#df-90411b00-e475-4909-8124-c9083917020c');\n",
              "          const dataTable =\n",
              "            await google.colab.kernel.invokeFunction('convertToInteractive',\n",
              "                                                     [key], {});\n",
              "          if (!dataTable) return;\n",
              "\n",
              "          const docLinkHtml = 'Like what you see? Visit the ' +\n",
              "            '<a target=\"_blank\" href=https://colab.research.google.com/notebooks/data_table.ipynb>data table notebook</a>'\n",
              "            + ' to learn more about interactive tables.';\n",
              "          element.innerHTML = '';\n",
              "          dataTable['output_type'] = 'display_data';\n",
              "          await google.colab.output.renderOutput(dataTable, element);\n",
              "          const docLink = document.createElement('div');\n",
              "          docLink.innerHTML = docLinkHtml;\n",
              "          element.appendChild(docLink);\n",
              "        }\n",
              "      </script>\n",
              "    </div>\n",
              "  </div>\n",
              "  "
            ]
          },
          "metadata": {},
          "execution_count": 61
        }
      ]
    },
    {
      "cell_type": "markdown",
      "source": [
        "3rd Model"
      ],
      "metadata": {
        "id": "MvTqr4TvYcjl"
      }
    },
    {
      "cell_type": "code",
      "source": [
        "model3_on_1=keras.models.Sequential(model1.layers[:-1])\n",
        "model3_on_1.add(Dense(1))"
      ],
      "metadata": {
        "id": "nH19zgVAYPnm"
      },
      "execution_count": 60,
      "outputs": []
    }
  ],
  "metadata": {
    "colab": {
      "provenance": []
    },
    "kernelspec": {
      "display_name": "Python 3",
      "name": "python3"
    },
    "language_info": {
      "name": "python"
    }
  },
  "nbformat": 4,
  "nbformat_minor": 0
}